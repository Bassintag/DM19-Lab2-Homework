{
 "cells": [
  {
   "cell_type": "markdown",
   "metadata": {},
   "source": [
    "### Student Information\n",
    "Name: Antoine Stempfer\n",
    "\n",
    "Student ID: X1085034\n",
    "\n",
    "GitHub ID: Bassintag\n",
    "\n",
    "Kaggle name: Bassintag\n",
    "\n",
    "Kaggle private scoreboard snapshot:\n",
    "\n",
    "[Snapshot](./pic.png)"
   ]
  },
  {
   "cell_type": "markdown",
   "metadata": {},
   "source": [
    "---"
   ]
  },
  {
   "cell_type": "markdown",
   "metadata": {},
   "source": [
    "### Instructions"
   ]
  },
  {
   "cell_type": "markdown",
   "metadata": {},
   "source": [
    "1. First: __This part is worth 30% of your grade.__ Do the **take home** exercises in the [DM19-Lab2-Master Repo](https://github.com/EvaArevalo/DM19-Lab2-Master). You may need to copy some cells from the Lab notebook to this notebook. \n",
    "\n",
    "\n",
    "2. Second: __This part is worth 30% of your grade.__ Participate in the in-class [Kaggle Competition](https://www.kaggle.com/t/179d01d4dd984fc5ac45a894822479dd) regarding Emotion Recognition on Twitter. The scoring will be given according to your place in the Private Leaderboard ranking: \n",
    "    - **Bottom 40%**: Get 20% of the score (ie. 20% of 30% )\n",
    "\n",
    "    - **Top 41% - 100%**: Get (101-x)% of the score, where x is your ranking in the leaderboard (ie. (101-x)% of 30% )   \n",
    "    Submit your last submission __BEFORE the deadline (Nov. 23rd 11:59 pm, Saturday)__. Make sure to take a screenshot of your position at the end of the competition and store it as '''pic0.png''' under the **img** folder of this repository and rerun the cell **Student Information**.\n",
    "    \n",
    "\n",
    "3. Third: __This part is worth 30% of your grade.__ A report of your work developping the model for the competition (You can use code and comment it). This report should include what your preprocessing steps, the feature engineering steps and an explanation of your model. You can also mention different things you tried and insights you gained. \n",
    "\n",
    "\n",
    "4. Fourth: __This part is worth 10% of your grade.__ It's hard for us to follow if your code is messy :'(, so please **tidy up your notebook** and **add minimal comments where needed**.\n",
    "\n",
    "\n",
    "You can submit your homework following these guidelines: [Git Intro & How to hand your homework](https://github.com/EvaArevalo/DM19-Lab1-Master/blob/master/Git%20Intro%20%26%20How%20to%20hand%20your%20homework.ipynb), but make sure to fork the [DM19-Lab2-Homework](https://github.com/EvaArevalo/DM19-Lab2-Homework) repository this time! Also please __DON´T UPLOAD HUGE DOCUMENTS__, please use Git ignore for that.\n",
    "\n",
    "Make sure to commit and save your changes to your repository __BEFORE the deadline (Nov. 26th 11:59 pm, Tuesday)__. "
   ]
  },
  {
   "cell_type": "code",
   "execution_count": 1,
   "metadata": {},
   "outputs": [],
   "source": [
    "import pandas as pd\n",
    "\n",
    "### training data\n",
    "anger_train = pd.read_csv(\"data/semeval/train/anger-ratings-0to1.train.txt\",\n",
    "                         sep=\"\\t\", header=None,names=[\"id\", \"text\", \"emotion\", \"intensity\"])\n",
    "sadness_train = pd.read_csv(\"data/semeval/train/sadness-ratings-0to1.train.txt\",\n",
    "                         sep=\"\\t\", header=None, names=[\"id\", \"text\", \"emotion\", \"intensity\"])\n",
    "fear_train = pd.read_csv(\"data/semeval/train/fear-ratings-0to1.train.txt\",\n",
    "                         sep=\"\\t\", header=None, names=[\"id\", \"text\", \"emotion\", \"intensity\"])\n",
    "joy_train = pd.read_csv(\"data/semeval/train/joy-ratings-0to1.train.txt\",\n",
    "                         sep=\"\\t\", header=None, names=[\"id\", \"text\", \"emotion\", \"intensity\"])\n",
    "\n",
    "# combine 4 sub-dataset\n",
    "train_df = pd.concat([anger_train, fear_train, joy_train, sadness_train], ignore_index=True)\n",
    "\n",
    "### testing data\n",
    "anger_test = pd.read_csv(\"data/semeval/dev/anger-ratings-0to1.dev.gold.txt\",\n",
    "                         sep=\"\\t\", header=None, names=[\"id\", \"text\", \"emotion\", \"intensity\"])\n",
    "sadness_test = pd.read_csv(\"data/semeval/dev/sadness-ratings-0to1.dev.gold.txt\",\n",
    "                         sep=\"\\t\", header=None, names=[\"id\", \"text\", \"emotion\", \"intensity\"])\n",
    "fear_test = pd.read_csv(\"data/semeval/dev/fear-ratings-0to1.dev.gold.txt\",\n",
    "                         sep=\"\\t\", header=None, names=[\"id\", \"text\", \"emotion\", \"intensity\"])\n",
    "joy_test = pd.read_csv(\"data/semeval/dev/joy-ratings-0to1.dev.gold.txt\",\n",
    "                         sep=\"\\t\", header=None, names=[\"id\", \"text\", \"emotion\", \"intensity\"])\n",
    "\n",
    "# combine 4 sub-dataset\n",
    "test_df = pd.concat([anger_test, fear_test, joy_test, sadness_test], ignore_index=True)\n",
    "train_df.head()\n",
    "\n",
    "# shuffle dataset\n",
    "train_df = train_df.sample(frac=1)\n",
    "test_df = test_df.sample(frac=1)"
   ]
  },
  {
   "cell_type": "markdown",
   "metadata": {},
   "source": [
    "# Exercise 1"
   ]
  },
  {
   "cell_type": "code",
   "execution_count": 2,
   "metadata": {},
   "outputs": [
    {
     "data": {
      "text/plain": [
       "<matplotlib.axes._subplots.AxesSubplot at 0x7fb204e83908>"
      ]
     },
     "execution_count": 2,
     "metadata": {},
     "output_type": "execute_result"
    },
    {
     "data": {
      "image/png": "[encoded data removed]",
      "text/plain": [
       "<Figure size 432x288 with 1 Axes>"
      ]
     },
     "metadata": {
      "needs_background": "light"
     },
     "output_type": "display_data"
    }
   ],
   "source": [
    "# Answer here\n",
    "import matplotlib.pyplot as plt\n",
    "%matplotlib inline\n",
    "\n",
    "train_df.text.str.split(expand=True).stack().value_counts()[:30].plot(kind='bar')"
   ]
  },
  {
   "cell_type": "markdown",
   "metadata": {},
   "source": [
    "# Exerise 2"
   ]
  },
  {
   "cell_type": "code",
   "execution_count": 3,
   "metadata": {},
   "outputs": [
    {
     "name": "stderr",
     "output_type": "stream",
     "text": [
      "/usr/local/lib/python3.5/site-packages/sklearn/feature_extraction/text.py:507: UserWarning: The parameter 'token_pattern' will not be used since 'tokenizer' is not None'\n",
      "  warnings.warn(\"The parameter 'token_pattern' will not be used\"\n"
     ]
    },
    {
     "data": {
      "text/plain": [
       "['awful', 'b', 'baby', 'back', 'bad', 'ball', 'balls', 'bb18', 'bc', 'bday']"
      ]
     },
     "execution_count": 3,
     "metadata": {},
     "output_type": "execute_result"
    }
   ],
   "source": [
    "import nltk\n",
    "from sklearn.feature_extraction.text import TfidfVectorizer\n",
    "\n",
    "vecorizer = TfidfVectorizer(max_features=1000, tokenizer=nltk.word_tokenize)\n",
    "\n",
    "vecorizer.fit(train_df['text'])\n",
    "\n",
    "train_data_vec = vecorizer.transform(train_df['text'])\n",
    "\n",
    "vecorizer.get_feature_names()[100:110]"
   ]
  },
  {
   "cell_type": "markdown",
   "metadata": {},
   "source": [
    "# Exercise 3"
   ]
  },
  {
   "cell_type": "markdown",
   "metadata": {},
   "source": [
    "The confusion matrix shows the predicted labels against the acutal true labels\n",
    "\n",
    "We can see for example that out of 84 actual anger tweets, 55 were accurately predicted, 16 were predicted as fear, 9 as joy and 4 as sadness.\n",
    "\n",
    "We get similar results on the other rows which means that we get relatively accurate results."
   ]
  },
  {
   "cell_type": "markdown",
   "metadata": {},
   "source": [
    "# Exercise 4"
   ]
  },
  {
   "cell_type": "code",
   "execution_count": 4,
   "metadata": {},
   "outputs": [
    {
     "data": {
      "text/plain": [
       "array(['anger', 'anger', 'fear', 'fear', 'sadness', 'anger', 'fear',\n",
       "       'fear', 'fear', 'fear'], dtype='<U7')"
      ]
     },
     "execution_count": 4,
     "metadata": {},
     "output_type": "execute_result"
    }
   ],
   "source": [
    "from sklearn.naive_bayes import MultinomialNB\n",
    "\n",
    "X_train = vecorizer.transform(train_df['text'])\n",
    "y_train = train_df['emotion']\n",
    "\n",
    "X_test = vecorizer.transform(test_df['text'])\n",
    "y_test = test_df['emotion']\n",
    "\n",
    "mnb = MultinomialNB()\n",
    "\n",
    "model = mnb.fit(X_train, y_train)\n",
    "\n",
    "y_test_pred = model.predict(X_test)\n",
    "y_train_pred = model.predict(X_train)\n",
    "\n",
    "\n",
    "y_test_pred[:10]"
   ]
  },
  {
   "cell_type": "markdown",
   "metadata": {},
   "source": [
    "# Exercise 5"
   ]
  },
  {
   "cell_type": "code",
   "execution_count": 5,
   "metadata": {},
   "outputs": [
    {
     "name": "stdout",
     "output_type": "stream",
     "text": [
      "[[ 58  19   3   4]\n",
      " [  4 103   2   1]\n",
      " [  3  13  57   6]\n",
      " [  2  21   6  45]]\n"
     ]
    }
   ],
   "source": [
    "# Answer here\n",
    "from sklearn.metrics import confusion_matrix\n",
    "\n",
    "cm = confusion_matrix(y_true=y_test, y_pred=y_test_pred) \n",
    "print(cm)"
   ]
  },
  {
   "cell_type": "markdown",
   "metadata": {},
   "source": [
    "We are getting better results than by using desision tree\n",
    "\n",
    "Accurate results for each emotion are all better:\n",
    "\n",
    "- 58 vs 55\n",
    "- 103 vs 70\n",
    "- 57 vs 54\n",
    "- 45 vs 42\n",
    "\n",
    "We can deduce than this model might be more appropriate for this task"
   ]
  },
  {
   "cell_type": "markdown",
   "metadata": {},
   "source": [
    "# Kaggle report\n",
    "\n",
    "## Loading data\n",
    "\n",
    "First I parsed the json input to create a Pandas dataframe using only relevant data, I decided to keep tweetId (used as index to speed up the computation), text and hashtags (which I didn't end up using).\n",
    "\n",
    "Before parsing the data I had loaded the training/testing data identification into a separate dataframe, this allows me to tag the data from the json file as testing or training\n",
    "\n",
    "```python\n",
    "cols = ['tweet_id', 'text', 'hashtags', 'train']\n",
    "\n",
    "with open('tweets_DM.json') as jf:\n",
    "\tparsed_lines = [json.loads(line)['_source']['tweet'] for i, line in enumerate(jf)]\n",
    "\tdata = [[\n",
    "\t\tparsed['tweet_id'],\n",
    "        parsed['text'],\n",
    "\t\tparsed['hashtags'],  # Unused\n",
    "\t\tdf_class.loc[parsed['tweet_id']]['identification'] == 'train' # Training / Testing ?\n",
    "\t] for parsed in parsed_lines]\n",
    "\n",
    "df = pd.DataFrame(data, columns=cols).set_index('tweet_id')\n",
    "```\n",
    "\n",
    "## Preparing for feature extraction\n",
    "\n",
    "For the data preparation I used multiple techniques in order to reduce the number of features as much as possible and to also remove meaningless features.\n",
    "\n",
    "First I noticed that nltk has a Tokenizer made especially for tweets so I decided to use it instead of the default one. I also removed the \"lh\" tags from the tweets as they are not part of the user input. I also removed all punctuation and numbers (using a regexp) from the sentence to only keep words.\n",
    "\n",
    "Finally I used an english stemmer on each word to remove as much variation as posible\n",
    "\n",
    "```python\n",
    "tokenizer = TweetTokenizer(strip_handles=True, reduce_len=True) # NLTK Tokenizer for tweets\n",
    "\n",
    "stemmer = SnowballStemmer(\"english\")\n",
    "\n",
    "d = re.compile('^\\d+$') # Match words only made of digits \n",
    "\n",
    "def clean_word(w):\n",
    "    return stemmer.stem(w) # Apply stemmer to word\n",
    "\n",
    "def clean_sentence(s):\n",
    "    tokens = tokenizer.tokenize(s.lower()) # Tokenize lowercased sentence\n",
    "    ret = []\n",
    "    for t in tokens: # For each word (token)\n",
    "        if t in string.punctuation or t == '<lh>' or d.match(t):  \n",
    "            continue # Ignore if <lh> token or is punctuation or is only digits\n",
    "        ret.append(clean_word(t)) # push to out aray\n",
    "    return ' '.join(ret) # joins as one string\n",
    "    \n",
    "\n",
    "df['text'] = df['text'].apply(clean_sentence)\n",
    "```\n",
    "\n",
    "## Feature extraction\n",
    "\n",
    "To extract features I then used a TfidfVectorizer from SkLearn with english stopwords\n",
    "\n",
    "```python\n",
    "vectorizer = TfidfVectorizer(max_features=2500, min_df=7, max_df=0.8, stop_words=stopwords.words('english'))\n",
    "\n",
    "vectorizer.fit_transform(train_df['text'])\n",
    "```\n",
    "\n",
    "## Training\n",
    "\n",
    "I then trained a RandomForestClassifier with the training data\n",
    "\n",
    "```python\n",
    "X_train = vectorizer.transform(train_df['text'])\n",
    "y_train = train_df['emotion']\n",
    "\n",
    "X_test = vectorizer.transform(test_df['text'])\n",
    "\n",
    "rnb = RandomForestClassifier(n_estimators=20, random_state=0)\n",
    "\n",
    "model = rnb.fit(X_train, y_train)\n",
    "\n",
    "y_test_pred = model.predict(X_test)\n",
    "```\n",
    "\n",
    "## What went wrong ?\n",
    "\n",
    "The results from this are very bad, having only a laptop with no gpu and 8gb of RAM I was a little bit limitted as to how much testing I could do. Training this very simple classifier takes arround 6 hours on my computer. Even worse I was testing with much bigger feature sizes, I crashed my computer multiple time by running out of ram (after multiple hours of waiting). In the end I should have looked into cloud computing solutions but I didn't have enough time to look into it.\n",
    "\n",
    "That being said, I learned a lot about the different types of classifier, how they work and how to adapt their settings based on the task to accomplish."
   ]
  },
  {
   "cell_type": "code",
   "execution_count": null,
   "metadata": {},
   "outputs": [],
   "source": []
  }
 ],
 "metadata": {
  "kernelspec": {
   "display_name": "Python 3",
   "language": "python",
   "name": "python3"
  },
  "language_info": {
   "codemirror_mode": {
    "name": "ipython",
    "version": 3
   },
   "file_extension": ".py",
   "mimetype": "text/x-python",
   "name": "python",
   "nbconvert_exporter": "python",
   "pygments_lexer": "ipython3",
   "version": "3.5.2"
  },
  "varInspector": {
   "cols": {
    "lenName": 16,
    "lenType": 16,
    "lenVar": 40
   },
   "kernels_config": {
    "python": {
     "delete_cmd_postfix": "",
     "delete_cmd_prefix": "del ",
     "library": "var_list.py",
     "varRefreshCmd": "print(var_dic_list())"
    },
    "r": {
     "delete_cmd_postfix": ") ",
     "delete_cmd_prefix": "rm(",
     "library": "var_list.r",
     "varRefreshCmd": "cat(var_dic_list()) "
    }
   },
   "types_to_exclude": [
    "module",
    "function",
    "builtin_function_or_method",
    "instance",
    "_Feature"
   ],
   "window_display": false
  }
 },
 "nbformat": 4,
 "nbformat_minor": 2
}
